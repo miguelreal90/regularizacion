{
  "nbformat": 4,
  "nbformat_minor": 0,
  "metadata": {
    "colab": {
      "provenance": [],
      "mount_file_id": "1NDGvWohukcfEBLDB9sF3ThWaPQHEOato",
      "authorship_tag": "ABX9TyNdqay9X0uTQpb1HIiipW07",
      "include_colab_link": true
    },
    "kernelspec": {
      "name": "python3",
      "display_name": "Python 3"
    },
    "language_info": {
      "name": "python"
    }
  },
  "cells": [
    {
      "cell_type": "markdown",
      "metadata": {
        "id": "view-in-github",
        "colab_type": "text"
      },
      "source": [
        "<a href=\"https://colab.research.google.com/github/miguelreal90/regularizacion/blob/main/regularizacion2.ipynb\" target=\"_parent\"><img src=\"https://colab.research.google.com/assets/colab-badge.svg\" alt=\"Open In Colab\"/></a>"
      ]
    },
    {
      "cell_type": "code",
      "source": [
        "import pandas as pd\n",
        "import matplotlib.pyplot as plt\n",
        "import sklearn\n",
        "from sklearn.linear_model import Lasso\n",
        "from sklearn.linear_model import Ridge\n",
        "from sklearn.linear_model import LinearRegression\n",
        "from sklearn.model_selection import train_test_split\n",
        "from sklearn.metrics import mean_squared_error\n",
        "url=\"https://raw.githubusercontent.com/miguelreal90/regularizacion/main/2017.csv\"\n",
        "df = pd.read_csv(url)\n"
      ],
      "metadata": {
        "id": "akQHAmK3MPUd"
      },
      "execution_count": 2,
      "outputs": []
    },
    {
      "cell_type": "code",
      "source": [
        "df.dtypes\n",
        "\n",
        "\n",
        "\n"
      ],
      "metadata": {
        "colab": {
          "base_uri": "https://localhost:8080/"
        },
        "id": "XJvh-XtaDswP",
        "outputId": "27be18a4-2903-4a6e-de2d-86e807c0a879"
      },
      "execution_count": 19,
      "outputs": [
        {
          "output_type": "execute_result",
          "data": {
            "text/plain": [
              "Country                           object\n",
              "Happiness.Rank                     int64\n",
              "Happiness.Score                  float64\n",
              "Whisker.high                     float64\n",
              "Whisker.low                      float64\n",
              "Economy..GDP.per.Capita.         float64\n",
              "Family                           float64\n",
              "Health..Life.Expectancy.         float64\n",
              "Freedom                          float64\n",
              "Generosity                       float64\n",
              "Trust..Government.Corruption.    float64\n",
              "Dystopia.Residual                float64\n",
              "dtype: object"
            ]
          },
          "metadata": {},
          "execution_count": 19
        }
      ]
    },
    {
      "cell_type": "code",
      "source": [
        "X=df[[\"Economy..GDP.per.Capita.\",\"Family\",\"Health..Life.Expectancy.\",\"Freedom\",\"Trust..Government.Corruption.\",\"Generosity\",\"Dystopia.Residual\"]]\n",
        "y=df[[\"Happiness.Score\"]]"
      ],
      "metadata": {
        "id": "hoESVoowJOQI"
      },
      "execution_count": 26,
      "outputs": []
    },
    {
      "cell_type": "code",
      "source": [
        "print(X.shape,y.shape)"
      ],
      "metadata": {
        "colab": {
          "base_uri": "https://localhost:8080/"
        },
        "id": "-4KfvbR0R2me",
        "outputId": "aa05a0a3-ac3f-4eda-a75a-9459b3e285b8"
      },
      "execution_count": 28,
      "outputs": [
        {
          "output_type": "stream",
          "name": "stdout",
          "text": [
            "(155, 7) (155, 1)\n"
          ]
        }
      ]
    },
    {
      "cell_type": "code",
      "source": [
        "X_train,X_test,y_train,y_test=train_test_split(X,y,test_size=0.25)\n",
        "modelinear=LinearRegression().fit(X_train,y_train)\n",
        "y_predict_linear=modelinear.predict(X_test)\n",
        "modelasso=Lasso(alpha=0.02).fit(X_train,y_train)\n",
        "y_predict_lasso=modelasso.predict(X_test)\n",
        "modelridge=Ridge(alpha=1).fit(X_train,y_train)\n",
        "y_predict_Ridge=modelridge.predict(X_test)"
      ],
      "metadata": {
        "id": "i_0d5j5AS0Tv"
      },
      "execution_count": 30,
      "outputs": []
    },
    {
      "cell_type": "code",
      "source": [
        "linear_lass=mean_squared_error(y_test,y_predict_linear)\n",
        "print(\"linear loss: \",linear_lass)\n",
        "lasso_lass=mean_squared_error(y_test,y_predict_lasso)\n",
        "print(\"lasso loss: \",lasso_lass)\n",
        "ridge_lass=mean_squared_error(y_test,y_predict_Ridge)\n",
        "print(\"ridge loss: \",ridge_lass)"
      ],
      "metadata": {
        "colab": {
          "base_uri": "https://localhost:8080/"
        },
        "id": "CM1RtcqcWKjl",
        "outputId": "62d585fa-39f1-4017-bbac-5ae26fe6f3e4"
      },
      "execution_count": 33,
      "outputs": [
        {
          "output_type": "stream",
          "name": "stdout",
          "text": [
            "linear loss:  8.381558506471396e-08\n",
            "lasso loss:  0.05151281813161232\n",
            "ridge loss:  0.007650394983756903\n"
          ]
        }
      ]
    },
    {
      "cell_type": "code",
      "source": [
        "print(\"=\"*32)\n",
        "print(\"coeficiente lineal\")\n",
        "print(modelinear.coef_)\n",
        "print(\"=\"*32)\n",
        "print(\"coeficiente lasso\")\n",
        "print(modelasso.coef_)\n",
        "print(\"=\"*32)\n",
        "print(\"coeficiente rigge\")\n",
        "print(modelridge.coef_)"
      ],
      "metadata": {
        "colab": {
          "base_uri": "https://localhost:8080/"
        },
        "id": "QP0jyL8LZzpu",
        "outputId": "a363e08a-296a-4a28-c268-5daafda7c7e3"
      },
      "execution_count": 34,
      "outputs": [
        {
          "output_type": "stream",
          "name": "stdout",
          "text": [
            "================================\n",
            "coeficiente lineal\n",
            "[[1.00001589 0.99991457 1.00003209 0.99992767 0.99989692 1.0001605\n",
            "  0.99995251]]\n",
            "================================\n",
            "coeficiente lasso\n",
            "[1.28693636 0.83036113 0.59035104 0.66158258 0.         0.3310533\n",
            " 0.89180747]\n",
            "================================\n",
            "coeficiente rigge\n",
            "[[1.08292143 0.93516874 0.88500777 0.87522968 0.58245592 0.78615915\n",
            "  0.95609433]]\n"
          ]
        }
      ]
    }
  ]
}